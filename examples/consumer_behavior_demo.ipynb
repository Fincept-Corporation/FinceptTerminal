{
 "cells": [
  {
   "cell_type": "markdown",
   "id": "3937e9a3",
   "metadata": {},
   "source": [
    "\n",
    "# Demonstrating the Consumer Behavior Insights Module\n",
    "\n",
    "This notebook demonstrates how to use the functions provided in the `fincept_terminal` library to fetch research papers, analyze content, and generate consumer behavior insights.\n"
   ]
  },
  {
   "cell_type": "code",
   "execution_count": null,
   "id": "a7170d3f",
   "metadata": {},
   "outputs": [],
   "source": [
    "\n",
    "# Import necessary functions from the module\n",
    "from fincept_terminal.consumer_behavior import (\n",
    "    fetch_research_papers,\n",
    "    consolidate_paper_content,\n",
    "    generate_summary_report,\n",
    "    extract_facts_dynamically,\n",
    "    enhance_summary_with_facts,\n",
    "    display_summary_report,\n",
    "    ask_questions_on_content\n",
    ")\n",
    "from rich.console import Console\n",
    "from rich.panel import Panel\n",
    "\n",
    "# Initialize a console for styled output\n",
    "console = Console()\n"
   ]
  },
  {
   "cell_type": "markdown",
   "id": "20a04f0a",
   "metadata": {},
   "source": [
    "\n",
    "## Step 1: Fetch Research Papers\n",
    "\n",
    "Use the `fetch_research_papers` function to retrieve a list of papers related to consumer behavior in a specific city.\n"
   ]
  },
  {
   "cell_type": "code",
   "execution_count": null,
   "id": "30a2477c",
   "metadata": {},
   "outputs": [],
   "source": [
    "\n",
    "# Fetch research papers for a city\n",
    "city = \"New York\"\n",
    "console.print(Panel(f\"Fetching research papers for [bold cyan]{city}[/bold cyan]\"))\n",
    "papers = fetch_research_papers(city, max_papers=5)\n",
    "\n",
    "if papers:\n",
    "    console.print(f\"[bold green]Fetched {len(papers)} papers successfully![/bold green]\")\n",
    "    for idx, paper in enumerate(papers, start=1):\n",
    "        console.print(f\"{idx}. {paper['title']} - {paper['url']}\")\n",
    "else:\n",
    "    console.print(f\"[bold red]No research papers found for {city}.[/bold red]\")\n"
   ]
  },
  {
   "cell_type": "markdown",
   "id": "7f4c9e31",
   "metadata": {},
   "source": [
    "\n",
    "## Step 2: Consolidate Paper Content\n",
    "\n",
    "Use the `consolidate_paper_content` function to fetch and combine content from the retrieved papers.\n"
   ]
  },
  {
   "cell_type": "code",
   "execution_count": null,
   "id": "04fbec95",
   "metadata": {},
   "outputs": [],
   "source": [
    "\n",
    "if papers:\n",
    "    console.print(Panel(\"[bold cyan]Consolidating content from fetched papers...[/bold cyan]\"))\n",
    "    combined_content = consolidate_paper_content(papers)\n",
    "    if combined_content.strip():\n",
    "        console.print(\"[bold green]Content consolidated successfully![/bold green]\")\n",
    "        console.print(combined_content[:500] + \"...\")  # Display first 500 characters\n",
    "    else:\n",
    "        console.print(\"[bold red]No accessible content found in the papers.[/bold red]\")\n"
   ]
  },
  {
   "cell_type": "markdown",
   "id": "aa82a9e2",
   "metadata": {},
   "source": [
    "\n",
    "## Step 3: Generate Summary Report\n",
    "\n",
    "Use the `generate_summary_report` function to create a structured report from the consolidated content.\n"
   ]
  },
  {
   "cell_type": "code",
   "execution_count": null,
   "id": "ef410c2f",
   "metadata": {},
   "outputs": [],
   "source": [
    "\n",
    "if papers and combined_content.strip():\n",
    "    console.print(Panel(\"[bold cyan]Generating summary report...[/bold cyan]\"))\n",
    "    summary_report = generate_summary_report(combined_content)\n",
    "    if summary_report:\n",
    "        console.print(\"[bold green]Summary report generated successfully![/bold green]\")\n",
    "        console.print(summary_report[:500] + \"...\")  # Display first 500 characters\n",
    "    else:\n",
    "        console.print(\"[bold red]Failed to generate summary report.[/bold red]\")\n"
   ]
  },
  {
   "cell_type": "markdown",
   "id": "284abfcd",
   "metadata": {},
   "source": [
    "\n",
    "## Step 4: Extract Additional Facts\n",
    "\n",
    "Use the `extract_facts_dynamically` function to extract key facts (percentages, sample sizes, etc.) from the content.\n"
   ]
  },
  {
   "cell_type": "code",
   "execution_count": null,
   "id": "d825254b",
   "metadata": {},
   "outputs": [],
   "source": [
    "\n",
    "if papers and combined_content.strip():\n",
    "    console.print(Panel(\"[bold cyan]Extracting key facts from the content...[/bold cyan]\"))\n",
    "    facts = extract_facts_dynamically(combined_content)\n",
    "    console.print(f\"[bold green]Extracted {len(facts)} key facts successfully![/bold green]\")\n",
    "    for fact in facts:\n",
    "        console.print(f\" - {fact}\")\n"
   ]
  },
  {
   "cell_type": "markdown",
   "id": "05badbd4",
   "metadata": {},
   "source": [
    "\n",
    "## Step 5: Enhance and Display the Summary Report\n",
    "\n",
    "Use the `enhance_summary_with_facts` function to embed extracted facts into the report and then display it using `display_summary_report`.\n"
   ]
  },
  {
   "cell_type": "code",
   "execution_count": null,
   "id": "6b6d73ed",
   "metadata": {},
   "outputs": [],
   "source": [
    "\n",
    "if papers and combined_content.strip() and summary_report:\n",
    "    console.print(Panel(\"[bold cyan]Enhancing summary report with extracted facts...[/bold cyan]\"))\n",
    "    enhanced_summary = enhance_summary_with_facts(summary_report, facts)\n",
    "    console.print(\"[bold green]Enhanced summary report generated successfully![/bold green]\")\n",
    "    display_summary_report(enhanced_summary)\n"
   ]
  },
  {
   "cell_type": "markdown",
   "id": "e5fe821b",
   "metadata": {},
   "source": [
    "\n",
    "## Step 6: Ask Questions on the Content\n",
    "\n",
    "Use the `ask_questions_on_content` function to allow users to ask specific questions about the research content.\n"
   ]
  },
  {
   "cell_type": "code",
   "execution_count": null,
   "id": "aa734e97",
   "metadata": {},
   "outputs": [],
   "source": [
    "\n",
    "if papers and combined_content.strip():\n",
    "    console.print(Panel(\"[bold cyan]You can now ask specific questions about the research content.[/bold cyan]\"))\n",
    "    ask_questions_on_content(combined_content)\n"
   ]
  }
 ],
 "metadata": {},
 "nbformat": 4,
 "nbformat_minor": 5
}
