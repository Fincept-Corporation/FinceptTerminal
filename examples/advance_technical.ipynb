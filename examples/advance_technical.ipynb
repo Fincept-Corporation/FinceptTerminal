{
  "nbformat": 4,
  "nbformat_minor": 0,
  "metadata": {
    "colab": {
      "provenance": []
    },
    "kernelspec": {
      "name": "python3",
      "display_name": "Python 3"
    },
    "language_info": {
      "name": "python"
    }
  },
  "cells": [
    {
      "cell_type": "code",
      "source": [
        "# Import necessary modules from fincept_terminal\n",
        "from fincept_terminal.advanced_technicals import fetch_stock_data, calculate_stage_analysis, calculate_camarilla_levels"
      ],
      "metadata": {
        "id": "hz57fwHHmu4L"
      },
      "execution_count": null,
      "outputs": []
    },
    {
      "cell_type": "code",
      "source": [
        "# Step 1: Fetch Stock Data\n",
        "stock_symbol = \"AAPL\"  # Example stock symbol\n",
        "period = \"1y\"  # Timeframe for fetching data\n",
        "\n",
        "print(f\"[bold cyan]Fetching stock data for: {stock_symbol}[/bold cyan]\")\n",
        "stock_data = fetch_stock_data(stock_symbol, period)"
      ],
      "metadata": {
        "id": "1wKWuJZXm-Fe"
      },
      "execution_count": null,
      "outputs": []
    },
    {
      "cell_type": "code",
      "source": [
        "print(\"[bold green]Stock data fetched successfully![/bold green]\")\n",
        "print(stock_data.head())  # Show a sample of the fetched data"
      ],
      "metadata": {
        "id": "iErzBjDKnKrr"
      },
      "execution_count": null,
      "outputs": []
    },
    {
      "cell_type": "code",
      "source": [
        "# Step 2: Perform Stage Analysis\n",
        "print(\"\\n[bold cyan]Performing Stage Analysis[/bold cyan]\")\n",
        "stage_analysis_results = calculate_stage_analysis(stock_data)\n",
        "for key, value in stage_analysis_results.items():\n",
        "  print(f\"{key}: {value}\")"
      ],
      "metadata": {
        "id": "qCCBPu0FnON9"
      },
      "execution_count": null,
      "outputs": []
    },
    {
      "cell_type": "code",
      "execution_count": null,
      "metadata": {
        "colab": {
          "base_uri": "https://localhost:8080/"
        },
        "id": "9Ak40-rEM2S4",
        "outputId": "0839a78f-3b0e-4424-88e7-f5f6fd509f60"
      },
      "outputs": [
        {
          "output_type": "stream",
          "name": "stdout",
          "text": [
            "Data for all stations at 09:00:00 have been saved to 'gauge_station_data_9am.xlsx'\n"
          ]
        }
      ],
      "source": [
        "# Step 3: Calculate Camarilla Levels\n",
        "print(\"\\n[bold cyan]Calculating Camarilla Pivot Points[/bold cyan]\")\n",
        "camarilla_levels = calculate_camarilla_levels(stock_data)\n",
        "for level, value in camarilla_levels.items():\n",
        "  print(f\"{level}: {value}\")"
      ]
    }
  ]
}