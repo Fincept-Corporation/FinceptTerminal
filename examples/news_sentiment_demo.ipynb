{
 "cells": [
  {
   "cell_type": "markdown",
   "id": "152336b2",
   "metadata": {},
   "source": [
    "\n",
    "# Demonstrating the Global News and Sentiment Analysis Module\n",
    "\n",
    "This notebook demonstrates how to use the functions provided in the `fincept_terminal` library for fetching news, analyzing sentiment, and displaying results interactively.\n"
   ]
  },
  {
   "cell_type": "code",
   "execution_count": null,
   "id": "033ec79d",
   "metadata": {},
   "outputs": [],
   "source": [
    "\n",
    "# Import necessary functions from the module\n",
    "from fincept_terminal.global_news import (\n",
    "    fetch_and_display_news,\n",
    "    fetch_custom_news,\n",
    "    display_sentiment_bar\n",
    ")\n",
    "from rich.console import Console\n",
    "\n",
    "# Initialize a console for styled output\n",
    "console = Console()\n"
   ]
  },
  {
   "cell_type": "markdown",
   "id": "dd26e984",
   "metadata": {},
   "source": [
    "\n",
    "## Step 1: Fetch News and Analyze Sentiment\n",
    "\n",
    "Use the `fetch_and_display_news` function to fetch news articles for a specific country and topic, and analyze the sentiment of the headlines.\n"
   ]
  },
  {
   "cell_type": "code",
   "execution_count": null,
   "id": "9502af5f",
   "metadata": {},
   "outputs": [],
   "source": [
    "\n",
    "# Fetch and display news for a specific country and topic\n",
    "country = \"United States\"\n",
    "topic = \"Business\"\n",
    "\n",
    "console.print(f\"[bold cyan]Fetching news for {topic} in {country}...[/bold cyan]\")\n",
    "fetch_and_display_news(country, topic)\n"
   ]
  },
  {
   "cell_type": "markdown",
   "id": "785a0a33",
   "metadata": {},
   "source": [
    "\n",
    "## Step 2: Fetch Custom News Based on a Query\n",
    "\n",
    "Use the `fetch_custom_news` function to search for news articles based on a custom keyword query and display the sentiment analysis results.\n"
   ]
  },
  {
   "cell_type": "code",
   "execution_count": null,
   "id": "b0cd4d70",
   "metadata": {},
   "outputs": [],
   "source": [
    "\n",
    "# Fetch custom news based on a query\n",
    "query = \"Artificial Intelligence\"\n",
    "country = \"United Kingdom\"\n",
    "\n",
    "console.print(f\"[bold cyan]Fetching custom news for query: {query} in {country}...[/bold cyan]\")\n",
    "fetch_custom_news(query, country)\n"
   ]
  },
  {
   "cell_type": "markdown",
   "id": "e8d75548",
   "metadata": {},
   "source": [
    "\n",
    "## Step 3: Display Sentiment Analysis Summary\n",
    "\n",
    "Use the `display_sentiment_bar` function to display the sentiment analysis results as an ASCII bar chart.\n"
   ]
  },
  {
   "cell_type": "code",
   "execution_count": null,
   "id": "e0702f86",
   "metadata": {},
   "outputs": [],
   "source": [
    "\n",
    "# Example sentiment counts\n",
    "positive_count = 15\n",
    "neutral_count = 5\n",
    "negative_count = 3\n",
    "\n",
    "console.print(\"[bold cyan]Displaying sentiment analysis bar chart...[/bold cyan]\")\n",
    "display_sentiment_bar(positive_count, neutral_count, negative_count)\n"
   ]
  },
  {
   "cell_type": "markdown",
   "id": "125ade87",
   "metadata": {},
   "source": [
    "\n",
    "## Step 4: Interactive News Menu\n",
    "\n",
    "Use the `show_news_and_sentiment_menu` function for an interactive menu to fetch global news and analyze sentiment by continent and country.\n"
   ]
  },
  {
   "cell_type": "code",
   "execution_count": null,
   "id": "12651078",
   "metadata": {},
   "outputs": [],
   "source": [
    "\n",
    "# Interactive menu for news and sentiment analysis\n",
    "from fincept_terminal.global_news import show_news_and_sentiment_menu\n",
    "\n",
    "console.print(\"[bold cyan]Launching interactive news and sentiment menu...[/bold cyan]\")\n",
    "show_news_and_sentiment_menu()\n"
   ]
  },
  {
   "cell_type": "markdown",
   "id": "e330ca79",
   "metadata": {},
   "source": [
    "\n",
    "## Summary\n",
    "\n",
    "This notebook demonstrated how to:\n",
    "1. Fetch and display news articles by country and topic using `fetch_and_display_news`.\n",
    "2. Fetch custom news articles based on a query using `fetch_custom_news`.\n",
    "3. Analyze and display sentiment results using `display_sentiment_bar`.\n",
    "4. Use the interactive menu for news and sentiment analysis with `show_news_and_sentiment_menu`.\n",
    "\n",
    "You can modify the `country`, `topic`, and `query` parameters to explore more news and sentiment analysis cases.\n"
   ]
  }
 ],
 "metadata": {},
 "nbformat": 4,
 "nbformat_minor": 5
}
