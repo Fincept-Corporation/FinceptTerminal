{
 "cells": [
  {
   "cell_type": "markdown",
   "id": "1cba4b7e",
   "metadata": {},
   "source": [
    "\n",
    "# Demonstrating the World Economy Tracker Module\n",
    "\n",
    "This notebook demonstrates how to use the functions provided in the `fincept_terminal` library to fetch country data, query FRED data, and perform ARIMA analysis.\n"
   ]
  },
  {
   "cell_type": "code",
   "execution_count": null,
   "id": "78b73745",
   "metadata": {},
   "outputs": [],
   "source": [
    "\n",
    "# Import necessary functions from the module\n",
    "from fincept_terminal.world_economy import (\n",
    "    show_world_economy_tracker_menu,\n",
    "    show_list_of_countries,\n",
    "    search_by_index,\n",
    "    query_fred_data,\n",
    "    arima_analysis\n",
    ")\n",
    "from rich.console import Console\n",
    "\n",
    "# Initialize a console for styled output\n",
    "console = Console()\n"
   ]
  },
  {
   "cell_type": "markdown",
   "id": "b53b844c",
   "metadata": {},
   "source": [
    "\n",
    "## Step 1: Display List of Countries\n",
    "\n",
    "Use the `show_list_of_countries` function to display all available countries in the World Economy Tracker.\n"
   ]
  },
  {
   "cell_type": "code",
   "execution_count": null,
   "id": "db57c91b",
   "metadata": {},
   "outputs": [],
   "source": [
    "\n",
    "# Display list of countries\n",
    "console.print(\"[bold cyan]Fetching list of countries...[/bold cyan]\")\n",
    "show_list_of_countries()\n"
   ]
  },
  {
   "cell_type": "markdown",
   "id": "87f4779f",
   "metadata": {},
   "source": [
    "\n",
    "## Step 2: Search for Economic Data by Index\n",
    "\n",
    "Use the `search_by_index` function to search for and display economic data by specific indices.\n"
   ]
  },
  {
   "cell_type": "code",
   "execution_count": null,
   "id": "fe2e64c9",
   "metadata": {},
   "outputs": [],
   "source": [
    "\n",
    "# Search and display economic data by index\n",
    "console.print(\"[bold cyan]Searching for economic data by index...[/bold cyan]\")\n",
    "search_by_index()\n"
   ]
  },
  {
   "cell_type": "markdown",
   "id": "645e2a99",
   "metadata": {},
   "source": [
    "\n",
    "## Step 3: Query FRED Data\n",
    "\n",
    "Use the `query_fred_data` function to query data from the FRED API and optionally perform ARIMA analysis on the retrieved data.\n"
   ]
  },
  {
   "cell_type": "code",
   "execution_count": null,
   "id": "9f5baca6",
   "metadata": {},
   "outputs": [],
   "source": [
    "\n",
    "# Query data from FRED API\n",
    "console.print(\"[bold cyan]Querying FRED data...[/bold cyan]\")\n",
    "query_fred_data()\n"
   ]
  },
  {
   "cell_type": "markdown",
   "id": "6c77dbc5",
   "metadata": {},
   "source": [
    "\n",
    "## Step 4: Perform ARIMA Analysis\n",
    "\n",
    "The `arima_analysis` function is used internally after querying FRED data. It allows users to perform ARIMA modeling on the data and view forecasts.\n",
    "\n",
    "For demonstration, this step is integrated into the FRED data query process.\n"
   ]
  },
  {
   "cell_type": "markdown",
   "id": "3d511599",
   "metadata": {},
   "source": [
    "\n",
    "## Step 5: Interactive Menu\n",
    "\n",
    "Use the `show_world_economy_tracker_menu` function for an interactive menu to explore all features of the World Economy Tracker.\n"
   ]
  },
  {
   "cell_type": "code",
   "execution_count": null,
   "id": "850bacbe",
   "metadata": {},
   "outputs": [],
   "source": [
    "\n",
    "# Launch the interactive World Economy Tracker menu\n",
    "console.print(\"[bold cyan]Launching World Economy Tracker menu...[/bold cyan]\")\n",
    "show_world_economy_tracker_menu()\n"
   ]
  },
  {
   "cell_type": "markdown",
   "id": "bcca9ca1",
   "metadata": {},
   "source": [
    "\n",
    "## Summary\n",
    "\n",
    "This notebook demonstrated how to:\n",
    "1. Display a list of countries using `show_list_of_countries`.\n",
    "2. Search for economic data by index using `search_by_index`.\n",
    "3. Query FRED data using `query_fred_data` and perform ARIMA analysis.\n",
    "4. Use an interactive menu for exploring all World Economy Tracker features.\n",
    "\n",
    "You can use the interactive menu or individual functions to explore the module's capabilities further.\n"
   ]
  }
 ],
 "metadata": {},
 "nbformat": 4,
 "nbformat_minor": 5
}
